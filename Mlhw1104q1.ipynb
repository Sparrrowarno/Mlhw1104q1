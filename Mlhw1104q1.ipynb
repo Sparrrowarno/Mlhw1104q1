{
 "cells": [
  {
   "cell_type": "code",
   "execution_count": 1,
   "metadata": {},
   "outputs": [],
   "source": [
    "import matplotlib.pyplot as plt \n",
    "import numpy as np \n",
    "import math\n",
    "import scipy.stats"
   ]
  },
  {
   "cell_type": "code",
   "execution_count": 6,
   "metadata": {},
   "outputs": [],
   "source": [
    "def GMM(N, pi, mu, Sigma):\n",
    "    weight = [0]\n",
    "    weight.extend(np.cumsum(pi))\n",
    "    u = np.random.rand(N)\n",
    "    L = np.zeros((N))\n",
    "    x = np.zeros((N, 2))\n",
    "    for i in range(len(pi)):\n",
    "        indices = np.where(np.logical_and(u >= weight[i], u < weight[i+1]) == True)\n",
    "        L[indices] = i * np.ones(len(indices))\n",
    "        for k in indices[0]:\n",
    "            x[k,:] = np.random.multivariate_normal(mu[i,:], Sigma[:,:,i])\n",
    "    return x, L"
   ]
  },
  {
   "cell_type": "code",
   "execution_count": 3,
   "metadata": {},
   "outputs": [],
   "source": [
    "def phi(Y, mu_k, Sigma_k):\n",
    "    norm = scipy.stats.multivariate_normal(mean=mu_k, Sigma=Sigma_k)\n",
    "    return norm.pdf(Y)\n",
    "\n",
    "def getExpectation(Y, mu, Sigma, alpha):\n",
    "    N = Y.shape[0]\n",
    "    K = alpha.shape[0]\n",
    "    gamma = np.mat(np.zeros((N, K)))\n",
    "    prob = np.zeros((N, K))\n",
    "    for k in range(K):\n",
    "        prob[:, k] = phi(Y, mu[k], Sigma[k])\n",
    "    prob = np.mat(prob)\n",
    "    \n",
    "    for k in range(K):\n",
    "        gamma[:, k] = alpha[k] * prob[:, k]\n",
    "    for i in range(N):\n",
    "        gamma[i, :] /= np.sum(gamma[i, :])\n",
    "    return gamma\n",
    "\n",
    "def maximize(Y, gamma):\n",
    "    N, D = Y.shape\n",
    "    K = gamma.shape[1]\n",
    "    mu = np.zeros((K, D))\n",
    "    Sigma = []\n",
    "    alpha = np.zeros(K)\n",
    "\n",
    "    for k in range(K):\n",
    "        Nk = np.sum(gamma[:, k])\n",
    "        mu[k, :] = np.sum(np.multiply(Y, gamma[:, k]), axis=0) / Nk\n",
    "        Sigma_k = (Y - mu[k]).T * np.multiply((Y - mu[k]), gamma[:, k]) / Nk\n",
    "        Sigma.append(Sigma_k)\n",
    "        alpha[k] = Nk / N\n",
    "    Sigma = np.array(Sigma)\n",
    "    return mu, Sigma, alpha\n",
    "\n",
    "def scale_data(Y):\n",
    "    for i in range(Y.shape[1]):\n",
    "        max_ = Y[:, i].max()\n",
    "        min_ = Y[:, i].min()\n",
    "        Y[:, i] = (Y[:, i] - min_) / (max_ - min_)\n",
    "    return Y\n",
    "\n",
    "def init_params(shape, K):\n",
    "n, D = shape\n",
    "mu = np.random.rand(K, D)\n",
    "Sigma = np.array([np.eye(D)] * K)\n",
    "alpha = np.array([1.0 / K] * K)\n",
    "return mu, Sigma, alpha\n",
    "\n",
    "def EM(Y, K):\n",
    "    Y = scale_data(Y)\n",
    "    mu, Sigma, alpha = init_params(Y.shape, K)\n",
    "    gamma = getExpectation(Y, mu, Sigma, alpha)\n",
    "    mu, Sigma, alpha = maximize(Y, gamma)\n",
    "    return alpha, mu, Sigma"
   ]
  },
  {
   "cell_type": "code",
   "execution_count": 4,
   "metadata": {},
   "outputs": [],
   "source": [
    "def logLH(X, alpha, mu, Sigma):\n",
    "    n_sample = len(X)\n",
    "    M = len(alpha)\n",
    "    pdfx = np.zeros([n_sample,M])\n",
    "    for i in range(M):\n",
    "        pdfx[:,i] = alpha[i] * scipy.stats.multivariate_normal.pdf(X, mu[i], Sigma[:,:,i])\n",
    "    LLH = sum(np.log(pdfx.sum(axis=1)) + 1e-5)#precision？\n",
    "    return LLH"
   ]
  },
  {
   "cell_type": "code",
   "execution_count": 9,
   "metadata": {},
   "outputs": [
    {
     "name": "stderr",
     "output_type": "stream",
     "text": [
      "G:\\Anaconda\\lib\\site-packages\\ipykernel_launcher.py:11: RuntimeWarning: covariance is not symmetric positive-semidefinite.\n",
      "  # This is added back by InteractiveShellApp.init_path()\n",
      "G:\\Anaconda\\lib\\site-packages\\ipykernel_launcher.py:7: RuntimeWarning: divide by zero encountered in log\n",
      "  import sys\n"
     ]
    },
    {
     "data": {
      "image/png": "[encoded data removed]",
      "text/plain": [
       "<Figure size 432x288 with 4 Axes>"
      ]
     },
     "metadata": {
      "needs_background": "light"
     },
     "output_type": "display_data"
    }
   ],
   "source": [
    "mu_true = np.array([[1,1],[-1,1],[-1,-1],[1,-1]])\n",
    "Sigma_true = np.zeros([2,2,4])\n",
    "Sigma_true[:,:,0] = 0.1*np.array([[-0.5,1],\n",
    "                                    [1,-0.5]])\n",
    "Sigma_true[:,:,1] = 0.1*np.array([[0.5,1],\n",
    "                                    [1,0.5]])\n",
    "Sigma_true[:,:,2] = 0.1*np.array([[1,-0.5],\n",
    "                                    [-0.5,1]])\n",
    "Sigma_true[:,:,3] = 0.1*np.array([[1,0.5],\n",
    "                                    [0.5,1]])\n",
    "alpha_true = np.array([0.15,0.20,0.30,0.35])\n",
    "K = 10                           \n",
    "M_max = 6\n",
    "counter = 1\n",
    "    \n",
    "    \n",
    "for N in [10,100,1000,10000]:\n",
    "    X, L = GMM(N, alpha_true, mu_true, Sigma_true)\n",
    "    part = np.ceil(np.linspace(0,N,K+1))\n",
    "    index_partition_limit = np.zeros([K,2])\n",
    "    for k in range(K):\n",
    "        index_partition_limit[k,:] = [part[k],part[k+1]-1]\n",
    "    M = np.linspace(1,M_max,M_max)\n",
    "    logLH_est = np.zeros(M_max)\n",
    "    for i in range(M_max):\n",
    "        logLH_valid = np.zeros(K)\n",
    "        for k in range(K):\n",
    "            ind_valid = np.arange(index_partition_limit[k,0], index_partition_limit[k,1]+1)\n",
    "            ind_valid = ind_valid.astype(int)\n",
    "            X_valid = X[ind_valid,:]\n",
    "            ind_train = np.hstack((np.arange(0,index_partition_limit[k,0]),np.arange(index_partition_limit[k,1]+1, N)))\n",
    "            ind_train = ind_train.astype(int)\n",
    "            X_train = X[ind_train,:]\n",
    "            alpha, mu, Sigma = EM(X_train, i+1)\n",
    "            logLH_valid[k] = logLH(X_valid, alpha, mu, Sigma)\n",
    "        logLH_est[i] = np.max(logLH_valid)\n",
    "    plt.subplot(2,2,counter)\n",
    "    plt.plot(M,logLH_est, label='N=%d'%N)\n",
    "    plt.xlabel('Order', fontsize=10)\n",
    "    plt.ylabel('Log Likelihood', fontsize=10)\n",
    "    plt.xticks(fontsize=5)\n",
    "    plt.yticks(fontsize=5)\n",
    "    plt.title('N=%d'%N, fontsize =10)\n",
    "    plt.subplots_adjust(hspace=0.5)\n",
    "    counter += 1\n",
    "plt.show()"
   ]
  },
  {
   "cell_type": "code",
   "execution_count": null,
   "metadata": {},
   "outputs": [],
   "source": []
  }
 ],
 "metadata": {
  "kernelspec": {
   "display_name": "Python 3",
   "language": "python",
   "name": "python3"
  },
  "language_info": {
   "codemirror_mode": {
    "name": "ipython",
    "version": 3
   },
   "file_extension": ".py",
   "mimetype": "text/x-python",
   "name": "python",
   "nbconvert_exporter": "python",
   "pygments_lexer": "ipython3",
   "version": "3.7.4"
  }
 },
 "nbformat": 4,
 "nbformat_minor": 2
}
